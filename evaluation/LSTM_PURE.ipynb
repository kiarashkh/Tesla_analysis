{
 "cells": [
  {
   "cell_type": "code",
   "execution_count": 53,
   "metadata": {
    "executionInfo": {
     "elapsed": 348,
     "status": "ok",
     "timestamp": 1749371968524,
     "user": {
      "displayName": "Kiarash Khorasani",
      "userId": "09003096899192786092"
     },
     "user_tz": -210
    },
    "id": "HRP_-N-LGBhe"
   },
   "outputs": [],
   "source": [
    "import numpy as np\n",
    "import pandas as pd\n",
    "from sklearn.preprocessing import MinMaxScaler\n",
    "from tensorflow.keras.models import Sequential\n",
    "from tensorflow.keras.layers import LSTM, Dense, Dropout\n",
    "from sklearn.metrics import mean_squared_error\n",
    "import matplotlib.pyplot as plt\n",
    "from tensorflow.keras.callbacks import EarlyStopping\n"
   ]
  },
  {
   "cell_type": "code",
   "execution_count": 54,
   "metadata": {
    "colab": {
     "base_uri": "https://localhost:8080/"
    },
    "executionInfo": {
     "elapsed": 3573,
     "status": "ok",
     "timestamp": 1749371972516,
     "user": {
      "displayName": "Kiarash Khorasani",
      "userId": "09003096899192786092"
     },
     "user_tz": -210
    },
    "id": "sAz1xlv_GeZc",
    "outputId": "bf2539b5-3077-4909-8235-23fc36c37778"
   },
   "outputs": [
    {
     "name": "stdout",
     "output_type": "stream",
     "text": [
      "Drive already mounted at /content/drive; to attempt to forcibly remount, call drive.mount(\"/content/drive\", force_remount=True).\n"
     ]
    }
   ],
   "source": [
    "from google.colab import drive\n",
    "drive.mount('/content/drive')"
   ]
  },
  {
   "cell_type": "code",
   "execution_count": 55,
   "metadata": {
    "executionInfo": {
     "elapsed": 4,
     "status": "ok",
     "timestamp": 1749371972516,
     "user": {
      "displayName": "Kiarash Khorasani",
      "userId": "09003096899192786092"
     },
     "user_tz": -210
    },
    "id": "dFRUo0HiGnfx"
   },
   "outputs": [],
   "source": [
    "folder_path = \"/content/drive/MyDrive/DA_FINAL/full_dataset.csv\""
   ]
  },
  {
   "cell_type": "code",
   "execution_count": 56,
   "metadata": {
    "colab": {
     "base_uri": "https://localhost:8080/",
     "height": 791
    },
    "executionInfo": {
     "elapsed": 3,
     "status": "ok",
     "timestamp": 1749371972516,
     "user": {
      "displayName": "Kiarash Khorasani",
      "userId": "09003096899192786092"
     },
     "user_tz": -210
    },
    "id": "tGzL0unNG1mB",
    "outputId": "9dbb3c69-744c-468e-d1b7-345952d9dc39"
   },
   "outputs": [
    {
     "data": {
      "application/vnd.google.colaboratory.intrinsic+json": {
       "type": "dataframe",
       "variable_name": "data"
      },
      "text/html": [
       "\n",
       "  <div id=\"df-acf77df9-641e-497e-a1fb-0adda178fcff\" class=\"colab-df-container\">\n",
       "    <div>\n",
       "<style scoped>\n",
       "    .dataframe tbody tr th:only-of-type {\n",
       "        vertical-align: middle;\n",
       "    }\n",
       "\n",
       "    .dataframe tbody tr th {\n",
       "        vertical-align: top;\n",
       "    }\n",
       "\n",
       "    .dataframe thead th {\n",
       "        text-align: right;\n",
       "    }\n",
       "</style>\n",
       "<table border=\"1\" class=\"dataframe\">\n",
       "  <thead>\n",
       "    <tr style=\"text-align: right;\">\n",
       "      <th></th>\n",
       "      <th>datetime</th>\n",
       "      <th>day_of_week</th>\n",
       "      <th>day_name</th>\n",
       "      <th>is_weekend</th>\n",
       "      <th>month</th>\n",
       "      <th>month_name</th>\n",
       "      <th>month_abbr</th>\n",
       "      <th>season</th>\n",
       "      <th>day_sin</th>\n",
       "      <th>day_cos</th>\n",
       "      <th>...</th>\n",
       "      <th>EMA_20</th>\n",
       "      <th>EMA_50</th>\n",
       "      <th>EMA_200</th>\n",
       "      <th>RSI</th>\n",
       "      <th>ATR</th>\n",
       "      <th>MACD</th>\n",
       "      <th>MACD_Signal</th>\n",
       "      <th>Bollinger_Upper</th>\n",
       "      <th>Bollinger_Mid</th>\n",
       "      <th>Bollinger_Lower</th>\n",
       "    </tr>\n",
       "  </thead>\n",
       "  <tbody>\n",
       "    <tr>\n",
       "      <th>0</th>\n",
       "      <td>2023-05-16 13:30:00</td>\n",
       "      <td>1</td>\n",
       "      <td>Tuesday</td>\n",
       "      <td>0</td>\n",
       "      <td>5</td>\n",
       "      <td>May</td>\n",
       "      <td>May</td>\n",
       "      <td>Spring</td>\n",
       "      <td>0.000000</td>\n",
       "      <td>1.000000</td>\n",
       "      <td>...</td>\n",
       "      <td>167.860345</td>\n",
       "      <td>167.706158</td>\n",
       "      <td>172.087043</td>\n",
       "      <td>33.774361</td>\n",
       "      <td>2.083642</td>\n",
       "      <td>-0.500352</td>\n",
       "      <td>-0.287061</td>\n",
       "      <td>171.839875</td>\n",
       "      <td>168.381561</td>\n",
       "      <td>164.923247</td>\n",
       "    </tr>\n",
       "    <tr>\n",
       "      <th>1</th>\n",
       "      <td>2023-05-16 14:30:00</td>\n",
       "      <td>1</td>\n",
       "      <td>Tuesday</td>\n",
       "      <td>0</td>\n",
       "      <td>5</td>\n",
       "      <td>May</td>\n",
       "      <td>May</td>\n",
       "      <td>Spring</td>\n",
       "      <td>0.781831</td>\n",
       "      <td>0.623490</td>\n",
       "      <td>...</td>\n",
       "      <td>167.928884</td>\n",
       "      <td>167.740426</td>\n",
       "      <td>172.052147</td>\n",
       "      <td>43.853172</td>\n",
       "      <td>2.046499</td>\n",
       "      <td>-0.375113</td>\n",
       "      <td>-0.304671</td>\n",
       "      <td>171.820326</td>\n",
       "      <td>168.367776</td>\n",
       "      <td>164.915227</td>\n",
       "    </tr>\n",
       "    <tr>\n",
       "      <th>2</th>\n",
       "      <td>2023-05-16 15:30:00</td>\n",
       "      <td>1</td>\n",
       "      <td>Tuesday</td>\n",
       "      <td>0</td>\n",
       "      <td>5</td>\n",
       "      <td>May</td>\n",
       "      <td>May</td>\n",
       "      <td>Spring</td>\n",
       "      <td>0.974928</td>\n",
       "      <td>-0.222521</td>\n",
       "      <td>...</td>\n",
       "      <td>167.976608</td>\n",
       "      <td>167.767468</td>\n",
       "      <td>172.016105</td>\n",
       "      <td>52.002776</td>\n",
       "      <td>1.957099</td>\n",
       "      <td>-0.284683</td>\n",
       "      <td>-0.300673</td>\n",
       "      <td>171.769824</td>\n",
       "      <td>168.334251</td>\n",
       "      <td>164.898679</td>\n",
       "    </tr>\n",
       "    <tr>\n",
       "      <th>3</th>\n",
       "      <td>2023-05-16 16:30:00</td>\n",
       "      <td>1</td>\n",
       "      <td>Tuesday</td>\n",
       "      <td>0</td>\n",
       "      <td>5</td>\n",
       "      <td>May</td>\n",
       "      <td>May</td>\n",
       "      <td>Spring</td>\n",
       "      <td>0.433884</td>\n",
       "      <td>-0.900969</td>\n",
       "      <td>...</td>\n",
       "      <td>168.009017</td>\n",
       "      <td>167.789014</td>\n",
       "      <td>171.979297</td>\n",
       "      <td>49.985752</td>\n",
       "      <td>1.924599</td>\n",
       "      <td>-0.219611</td>\n",
       "      <td>-0.284461</td>\n",
       "      <td>171.680061</td>\n",
       "      <td>168.280591</td>\n",
       "      <td>164.881121</td>\n",
       "    </tr>\n",
       "    <tr>\n",
       "      <th>4</th>\n",
       "      <td>2023-05-16 17:30:00</td>\n",
       "      <td>1</td>\n",
       "      <td>Tuesday</td>\n",
       "      <td>0</td>\n",
       "      <td>5</td>\n",
       "      <td>May</td>\n",
       "      <td>May</td>\n",
       "      <td>Spring</td>\n",
       "      <td>-0.433884</td>\n",
       "      <td>-0.900969</td>\n",
       "      <td>...</td>\n",
       "      <td>167.912910</td>\n",
       "      <td>167.758068</td>\n",
       "      <td>171.929751</td>\n",
       "      <td>46.388740</td>\n",
       "      <td>1.981028</td>\n",
       "      <td>-0.271186</td>\n",
       "      <td>-0.281806</td>\n",
       "      <td>171.484852</td>\n",
       "      <td>168.133585</td>\n",
       "      <td>164.782318</td>\n",
       "    </tr>\n",
       "    <tr>\n",
       "      <th>...</th>\n",
       "      <td>...</td>\n",
       "      <td>...</td>\n",
       "      <td>...</td>\n",
       "      <td>...</td>\n",
       "      <td>...</td>\n",
       "      <td>...</td>\n",
       "      <td>...</td>\n",
       "      <td>...</td>\n",
       "      <td>...</td>\n",
       "      <td>...</td>\n",
       "      <td>...</td>\n",
       "      <td>...</td>\n",
       "      <td>...</td>\n",
       "      <td>...</td>\n",
       "      <td>...</td>\n",
       "      <td>...</td>\n",
       "      <td>...</td>\n",
       "      <td>...</td>\n",
       "      <td>...</td>\n",
       "      <td>...</td>\n",
       "      <td>...</td>\n",
       "    </tr>\n",
       "    <tr>\n",
       "      <th>3272</th>\n",
       "      <td>2025-04-01 15:30:00</td>\n",
       "      <td>1</td>\n",
       "      <td>Tuesday</td>\n",
       "      <td>0</td>\n",
       "      <td>4</td>\n",
       "      <td>April</td>\n",
       "      <td>Apr</td>\n",
       "      <td>Spring</td>\n",
       "      <td>0.433884</td>\n",
       "      <td>-0.900969</td>\n",
       "      <td>...</td>\n",
       "      <td>264.526150</td>\n",
       "      <td>263.198399</td>\n",
       "      <td>277.892654</td>\n",
       "      <td>59.160493</td>\n",
       "      <td>6.124487</td>\n",
       "      <td>-0.571967</td>\n",
       "      <td>-2.179617</td>\n",
       "      <td>280.914274</td>\n",
       "      <td>263.504205</td>\n",
       "      <td>246.094135</td>\n",
       "    </tr>\n",
       "    <tr>\n",
       "      <th>3273</th>\n",
       "      <td>2025-04-01 16:30:00</td>\n",
       "      <td>1</td>\n",
       "      <td>Tuesday</td>\n",
       "      <td>0</td>\n",
       "      <td>4</td>\n",
       "      <td>April</td>\n",
       "      <td>Apr</td>\n",
       "      <td>Spring</td>\n",
       "      <td>-0.433884</td>\n",
       "      <td>-0.900969</td>\n",
       "      <td>...</td>\n",
       "      <td>265.365413</td>\n",
       "      <td>263.596046</td>\n",
       "      <td>277.847338</td>\n",
       "      <td>58.979143</td>\n",
       "      <td>6.220922</td>\n",
       "      <td>0.198447</td>\n",
       "      <td>-1.704004</td>\n",
       "      <td>280.403496</td>\n",
       "      <td>263.368125</td>\n",
       "      <td>246.332755</td>\n",
       "    </tr>\n",
       "    <tr>\n",
       "      <th>3274</th>\n",
       "      <td>2025-04-01 17:30:00</td>\n",
       "      <td>1</td>\n",
       "      <td>Tuesday</td>\n",
       "      <td>0</td>\n",
       "      <td>4</td>\n",
       "      <td>April</td>\n",
       "      <td>Apr</td>\n",
       "      <td>Spring</td>\n",
       "      <td>-0.974928</td>\n",
       "      <td>-0.222521</td>\n",
       "      <td>...</td>\n",
       "      <td>265.792517</td>\n",
       "      <td>263.841300</td>\n",
       "      <td>277.767763</td>\n",
       "      <td>54.457192</td>\n",
       "      <td>6.485207</td>\n",
       "      <td>0.521509</td>\n",
       "      <td>-1.258901</td>\n",
       "      <td>278.825213</td>\n",
       "      <td>262.950625</td>\n",
       "      <td>247.076037</td>\n",
       "    </tr>\n",
       "    <tr>\n",
       "      <th>3275</th>\n",
       "      <td>2025-04-01 18:30:00</td>\n",
       "      <td>1</td>\n",
       "      <td>Tuesday</td>\n",
       "      <td>0</td>\n",
       "      <td>4</td>\n",
       "      <td>April</td>\n",
       "      <td>Apr</td>\n",
       "      <td>Spring</td>\n",
       "      <td>-0.781831</td>\n",
       "      <td>0.623490</td>\n",
       "      <td>...</td>\n",
       "      <td>266.102752</td>\n",
       "      <td>264.045562</td>\n",
       "      <td>277.681019</td>\n",
       "      <td>55.231852</td>\n",
       "      <td>6.568541</td>\n",
       "      <td>0.704859</td>\n",
       "      <td>-0.866149</td>\n",
       "      <td>278.149584</td>\n",
       "      <td>262.741624</td>\n",
       "      <td>247.333664</td>\n",
       "    </tr>\n",
       "    <tr>\n",
       "      <th>3276</th>\n",
       "      <td>2025-04-01 19:30:00</td>\n",
       "      <td>1</td>\n",
       "      <td>Tuesday</td>\n",
       "      <td>0</td>\n",
       "      <td>4</td>\n",
       "      <td>April</td>\n",
       "      <td>Apr</td>\n",
       "      <td>Spring</td>\n",
       "      <td>0.000000</td>\n",
       "      <td>1.000000</td>\n",
       "      <td>...</td>\n",
       "      <td>266.329158</td>\n",
       "      <td>264.219462</td>\n",
       "      <td>277.589466</td>\n",
       "      <td>54.344572</td>\n",
       "      <td>6.478539</td>\n",
       "      <td>0.795007</td>\n",
       "      <td>-0.533918</td>\n",
       "      <td>278.508458</td>\n",
       "      <td>262.915624</td>\n",
       "      <td>247.322791</td>\n",
       "    </tr>\n",
       "  </tbody>\n",
       "</table>\n",
       "<p>3277 rows × 33 columns</p>\n",
       "</div>\n",
       "    <div class=\"colab-df-buttons\">\n",
       "\n",
       "  <div class=\"colab-df-container\">\n",
       "    <button class=\"colab-df-convert\" onclick=\"convertToInteractive('df-acf77df9-641e-497e-a1fb-0adda178fcff')\"\n",
       "            title=\"Convert this dataframe to an interactive table.\"\n",
       "            style=\"display:none;\">\n",
       "\n",
       "  <svg xmlns=\"http://www.w3.org/2000/svg\" height=\"24px\" viewBox=\"0 -960 960 960\">\n",
       "    <path d=\"M120-120v-720h720v720H120Zm60-500h600v-160H180v160Zm220 220h160v-160H400v160Zm0 220h160v-160H400v160ZM180-400h160v-160H180v160Zm440 0h160v-160H620v160ZM180-180h160v-160H180v160Zm440 0h160v-160H620v160Z\"/>\n",
       "  </svg>\n",
       "    </button>\n",
       "\n",
       "  <style>\n",
       "    .colab-df-container {\n",
       "      display:flex;\n",
       "      gap: 12px;\n",
       "    }\n",
       "\n",
       "    .colab-df-convert {\n",
       "      background-color: #E8F0FE;\n",
       "      border: none;\n",
       "      border-radius: 50%;\n",
       "      cursor: pointer;\n",
       "      display: none;\n",
       "      fill: #1967D2;\n",
       "      height: 32px;\n",
       "      padding: 0 0 0 0;\n",
       "      width: 32px;\n",
       "    }\n",
       "\n",
       "    .colab-df-convert:hover {\n",
       "      background-color: #E2EBFA;\n",
       "      box-shadow: 0px 1px 2px rgba(60, 64, 67, 0.3), 0px 1px 3px 1px rgba(60, 64, 67, 0.15);\n",
       "      fill: #174EA6;\n",
       "    }\n",
       "\n",
       "    .colab-df-buttons div {\n",
       "      margin-bottom: 4px;\n",
       "    }\n",
       "\n",
       "    [theme=dark] .colab-df-convert {\n",
       "      background-color: #3B4455;\n",
       "      fill: #D2E3FC;\n",
       "    }\n",
       "\n",
       "    [theme=dark] .colab-df-convert:hover {\n",
       "      background-color: #434B5C;\n",
       "      box-shadow: 0px 1px 3px 1px rgba(0, 0, 0, 0.15);\n",
       "      filter: drop-shadow(0px 1px 2px rgba(0, 0, 0, 0.3));\n",
       "      fill: #FFFFFF;\n",
       "    }\n",
       "  </style>\n",
       "\n",
       "    <script>\n",
       "      const buttonEl =\n",
       "        document.querySelector('#df-acf77df9-641e-497e-a1fb-0adda178fcff button.colab-df-convert');\n",
       "      buttonEl.style.display =\n",
       "        google.colab.kernel.accessAllowed ? 'block' : 'none';\n",
       "\n",
       "      async function convertToInteractive(key) {\n",
       "        const element = document.querySelector('#df-acf77df9-641e-497e-a1fb-0adda178fcff');\n",
       "        const dataTable =\n",
       "          await google.colab.kernel.invokeFunction('convertToInteractive',\n",
       "                                                    [key], {});\n",
       "        if (!dataTable) return;\n",
       "\n",
       "        const docLinkHtml = 'Like what you see? Visit the ' +\n",
       "          '<a target=\"_blank\" href=https://colab.research.google.com/notebooks/data_table.ipynb>data table notebook</a>'\n",
       "          + ' to learn more about interactive tables.';\n",
       "        element.innerHTML = '';\n",
       "        dataTable['output_type'] = 'display_data';\n",
       "        await google.colab.output.renderOutput(dataTable, element);\n",
       "        const docLink = document.createElement('div');\n",
       "        docLink.innerHTML = docLinkHtml;\n",
       "        element.appendChild(docLink);\n",
       "      }\n",
       "    </script>\n",
       "  </div>\n",
       "\n",
       "\n",
       "    <div id=\"df-70910bb0-11a5-4332-a177-1e3829197253\">\n",
       "      <button class=\"colab-df-quickchart\" onclick=\"quickchart('df-70910bb0-11a5-4332-a177-1e3829197253')\"\n",
       "                title=\"Suggest charts\"\n",
       "                style=\"display:none;\">\n",
       "\n",
       "<svg xmlns=\"http://www.w3.org/2000/svg\" height=\"24px\"viewBox=\"0 0 24 24\"\n",
       "     width=\"24px\">\n",
       "    <g>\n",
       "        <path d=\"M19 3H5c-1.1 0-2 .9-2 2v14c0 1.1.9 2 2 2h14c1.1 0 2-.9 2-2V5c0-1.1-.9-2-2-2zM9 17H7v-7h2v7zm4 0h-2V7h2v10zm4 0h-2v-4h2v4z\"/>\n",
       "    </g>\n",
       "</svg>\n",
       "      </button>\n",
       "\n",
       "<style>\n",
       "  .colab-df-quickchart {\n",
       "      --bg-color: #E8F0FE;\n",
       "      --fill-color: #1967D2;\n",
       "      --hover-bg-color: #E2EBFA;\n",
       "      --hover-fill-color: #174EA6;\n",
       "      --disabled-fill-color: #AAA;\n",
       "      --disabled-bg-color: #DDD;\n",
       "  }\n",
       "\n",
       "  [theme=dark] .colab-df-quickchart {\n",
       "      --bg-color: #3B4455;\n",
       "      --fill-color: #D2E3FC;\n",
       "      --hover-bg-color: #434B5C;\n",
       "      --hover-fill-color: #FFFFFF;\n",
       "      --disabled-bg-color: #3B4455;\n",
       "      --disabled-fill-color: #666;\n",
       "  }\n",
       "\n",
       "  .colab-df-quickchart {\n",
       "    background-color: var(--bg-color);\n",
       "    border: none;\n",
       "    border-radius: 50%;\n",
       "    cursor: pointer;\n",
       "    display: none;\n",
       "    fill: var(--fill-color);\n",
       "    height: 32px;\n",
       "    padding: 0;\n",
       "    width: 32px;\n",
       "  }\n",
       "\n",
       "  .colab-df-quickchart:hover {\n",
       "    background-color: var(--hover-bg-color);\n",
       "    box-shadow: 0 1px 2px rgba(60, 64, 67, 0.3), 0 1px 3px 1px rgba(60, 64, 67, 0.15);\n",
       "    fill: var(--button-hover-fill-color);\n",
       "  }\n",
       "\n",
       "  .colab-df-quickchart-complete:disabled,\n",
       "  .colab-df-quickchart-complete:disabled:hover {\n",
       "    background-color: var(--disabled-bg-color);\n",
       "    fill: var(--disabled-fill-color);\n",
       "    box-shadow: none;\n",
       "  }\n",
       "\n",
       "  .colab-df-spinner {\n",
       "    border: 2px solid var(--fill-color);\n",
       "    border-color: transparent;\n",
       "    border-bottom-color: var(--fill-color);\n",
       "    animation:\n",
       "      spin 1s steps(1) infinite;\n",
       "  }\n",
       "\n",
       "  @keyframes spin {\n",
       "    0% {\n",
       "      border-color: transparent;\n",
       "      border-bottom-color: var(--fill-color);\n",
       "      border-left-color: var(--fill-color);\n",
       "    }\n",
       "    20% {\n",
       "      border-color: transparent;\n",
       "      border-left-color: var(--fill-color);\n",
       "      border-top-color: var(--fill-color);\n",
       "    }\n",
       "    30% {\n",
       "      border-color: transparent;\n",
       "      border-left-color: var(--fill-color);\n",
       "      border-top-color: var(--fill-color);\n",
       "      border-right-color: var(--fill-color);\n",
       "    }\n",
       "    40% {\n",
       "      border-color: transparent;\n",
       "      border-right-color: var(--fill-color);\n",
       "      border-top-color: var(--fill-color);\n",
       "    }\n",
       "    60% {\n",
       "      border-color: transparent;\n",
       "      border-right-color: var(--fill-color);\n",
       "    }\n",
       "    80% {\n",
       "      border-color: transparent;\n",
       "      border-right-color: var(--fill-color);\n",
       "      border-bottom-color: var(--fill-color);\n",
       "    }\n",
       "    90% {\n",
       "      border-color: transparent;\n",
       "      border-bottom-color: var(--fill-color);\n",
       "    }\n",
       "  }\n",
       "</style>\n",
       "\n",
       "      <script>\n",
       "        async function quickchart(key) {\n",
       "          const quickchartButtonEl =\n",
       "            document.querySelector('#' + key + ' button');\n",
       "          quickchartButtonEl.disabled = true;  // To prevent multiple clicks.\n",
       "          quickchartButtonEl.classList.add('colab-df-spinner');\n",
       "          try {\n",
       "            const charts = await google.colab.kernel.invokeFunction(\n",
       "                'suggestCharts', [key], {});\n",
       "          } catch (error) {\n",
       "            console.error('Error during call to suggestCharts:', error);\n",
       "          }\n",
       "          quickchartButtonEl.classList.remove('colab-df-spinner');\n",
       "          quickchartButtonEl.classList.add('colab-df-quickchart-complete');\n",
       "        }\n",
       "        (() => {\n",
       "          let quickchartButtonEl =\n",
       "            document.querySelector('#df-70910bb0-11a5-4332-a177-1e3829197253 button');\n",
       "          quickchartButtonEl.style.display =\n",
       "            google.colab.kernel.accessAllowed ? 'block' : 'none';\n",
       "        })();\n",
       "      </script>\n",
       "    </div>\n",
       "    </div>\n",
       "  </div>\n"
      ],
      "text/plain": [
       "                datetime  day_of_week day_name  is_weekend  month month_name  \\\n",
       "0    2023-05-16 13:30:00            1  Tuesday           0      5        May   \n",
       "1    2023-05-16 14:30:00            1  Tuesday           0      5        May   \n",
       "2    2023-05-16 15:30:00            1  Tuesday           0      5        May   \n",
       "3    2023-05-16 16:30:00            1  Tuesday           0      5        May   \n",
       "4    2023-05-16 17:30:00            1  Tuesday           0      5        May   \n",
       "...                  ...          ...      ...         ...    ...        ...   \n",
       "3272 2025-04-01 15:30:00            1  Tuesday           0      4      April   \n",
       "3273 2025-04-01 16:30:00            1  Tuesday           0      4      April   \n",
       "3274 2025-04-01 17:30:00            1  Tuesday           0      4      April   \n",
       "3275 2025-04-01 18:30:00            1  Tuesday           0      4      April   \n",
       "3276 2025-04-01 19:30:00            1  Tuesday           0      4      April   \n",
       "\n",
       "     month_abbr  season   day_sin   day_cos  ...      EMA_20      EMA_50  \\\n",
       "0           May  Spring  0.000000  1.000000  ...  167.860345  167.706158   \n",
       "1           May  Spring  0.781831  0.623490  ...  167.928884  167.740426   \n",
       "2           May  Spring  0.974928 -0.222521  ...  167.976608  167.767468   \n",
       "3           May  Spring  0.433884 -0.900969  ...  168.009017  167.789014   \n",
       "4           May  Spring -0.433884 -0.900969  ...  167.912910  167.758068   \n",
       "...         ...     ...       ...       ...  ...         ...         ...   \n",
       "3272        Apr  Spring  0.433884 -0.900969  ...  264.526150  263.198399   \n",
       "3273        Apr  Spring -0.433884 -0.900969  ...  265.365413  263.596046   \n",
       "3274        Apr  Spring -0.974928 -0.222521  ...  265.792517  263.841300   \n",
       "3275        Apr  Spring -0.781831  0.623490  ...  266.102752  264.045562   \n",
       "3276        Apr  Spring  0.000000  1.000000  ...  266.329158  264.219462   \n",
       "\n",
       "         EMA_200        RSI       ATR      MACD  MACD_Signal  Bollinger_Upper  \\\n",
       "0     172.087043  33.774361  2.083642 -0.500352    -0.287061       171.839875   \n",
       "1     172.052147  43.853172  2.046499 -0.375113    -0.304671       171.820326   \n",
       "2     172.016105  52.002776  1.957099 -0.284683    -0.300673       171.769824   \n",
       "3     171.979297  49.985752  1.924599 -0.219611    -0.284461       171.680061   \n",
       "4     171.929751  46.388740  1.981028 -0.271186    -0.281806       171.484852   \n",
       "...          ...        ...       ...       ...          ...              ...   \n",
       "3272  277.892654  59.160493  6.124487 -0.571967    -2.179617       280.914274   \n",
       "3273  277.847338  58.979143  6.220922  0.198447    -1.704004       280.403496   \n",
       "3274  277.767763  54.457192  6.485207  0.521509    -1.258901       278.825213   \n",
       "3275  277.681019  55.231852  6.568541  0.704859    -0.866149       278.149584   \n",
       "3276  277.589466  54.344572  6.478539  0.795007    -0.533918       278.508458   \n",
       "\n",
       "      Bollinger_Mid  Bollinger_Lower  \n",
       "0        168.381561       164.923247  \n",
       "1        168.367776       164.915227  \n",
       "2        168.334251       164.898679  \n",
       "3        168.280591       164.881121  \n",
       "4        168.133585       164.782318  \n",
       "...             ...              ...  \n",
       "3272     263.504205       246.094135  \n",
       "3273     263.368125       246.332755  \n",
       "3274     262.950625       247.076037  \n",
       "3275     262.741624       247.333664  \n",
       "3276     262.915624       247.322791  \n",
       "\n",
       "[3277 rows x 33 columns]"
      ]
     },
     "execution_count": 56,
     "metadata": {},
     "output_type": "execute_result"
    }
   ],
   "source": [
    "data = pd.read_csv(folder_path, parse_dates=['datetime'])\n",
    "data"
   ]
  },
  {
   "cell_type": "markdown",
   "metadata": {
    "id": "1sMcHONaOV8R"
   },
   "source": [
    "# 1 Day Ahead Look"
   ]
  },
  {
   "cell_type": "code",
   "execution_count": 48,
   "metadata": {
    "executionInfo": {
     "elapsed": 350,
     "status": "ok",
     "timestamp": 1749364178879,
     "user": {
      "displayName": "Kiarash Khorasani",
      "userId": "09003096899192786092"
     },
     "user_tz": -210
    },
    "id": "LBPmg68NHDA2"
   },
   "outputs": [],
   "source": [
    "data['target'] = (data['Close'].shift(-1) > data['Close']).astype(int)\n",
    "data.dropna(inplace=True)"
   ]
  },
  {
   "cell_type": "code",
   "execution_count": 49,
   "metadata": {
    "executionInfo": {
     "elapsed": 1,
     "status": "ok",
     "timestamp": 1749364179432,
     "user": {
      "displayName": "Kiarash Khorasani",
      "userId": "09003096899192786092"
     },
     "user_tz": -210
    },
    "id": "U9TcmCCBHYZG"
   },
   "outputs": [],
   "source": [
    "features = ['Close', 'Volume', 'RSI', 'MACD', 'ATR', 'SMA_20', 'EMA_20',\n",
    "            'Bollinger_Upper', 'Bollinger_Lower', 'day_sin', 'day_cos']\n",
    "target = 'target'\n",
    "\n",
    "scaler = MinMaxScaler()\n",
    "scaled_data = scaler.fit_transform(data[features])"
   ]
  },
  {
   "cell_type": "code",
   "execution_count": 50,
   "metadata": {
    "executionInfo": {
     "elapsed": 420,
     "status": "ok",
     "timestamp": 1749364180529,
     "user": {
      "displayName": "Kiarash Khorasani",
      "userId": "09003096899192786092"
     },
     "user_tz": -210
    },
    "id": "QpOdRpnoHaNR"
   },
   "outputs": [],
   "source": [
    "# Create sequences\n",
    "def create_sequences(data, seq_length):\n",
    "    X, y = [], []\n",
    "    for i in range(len(data)-seq_length-1):\n",
    "        X.append(data[i:(i+seq_length)])\n",
    "        y.append(data[i+seq_length, -1])\n",
    "    return np.array(X), np.array(y)\n",
    "\n",
    "SEQ_LENGTH = 30  # Lookback window\n",
    "X, y = create_sequences(scaled_data, SEQ_LENGTH)"
   ]
  },
  {
   "cell_type": "code",
   "execution_count": 51,
   "metadata": {
    "executionInfo": {
     "elapsed": 1,
     "status": "ok",
     "timestamp": 1749364181324,
     "user": {
      "displayName": "Kiarash Khorasani",
      "userId": "09003096899192786092"
     },
     "user_tz": -210
    },
    "id": "d2tabts9IQ0H"
   },
   "outputs": [],
   "source": [
    "# Train-test split (75%-25%)\n",
    "split = int(0.75 * len(X))\n",
    "X_train, X_test = X[:split], X[split:]\n",
    "y_train, y_test = y[:split], y[split:]"
   ]
  },
  {
   "cell_type": "code",
   "execution_count": 52,
   "metadata": {
    "colab": {
     "base_uri": "https://localhost:8080/"
    },
    "executionInfo": {
     "elapsed": 1,
     "status": "ok",
     "timestamp": 1749364182066,
     "user": {
      "displayName": "Kiarash Khorasani",
      "userId": "09003096899192786092"
     },
     "user_tz": -210
    },
    "id": "WJG6sMKxIYep",
    "outputId": "44beb0ed-36cf-4fb7-f2cf-3f5bb047651c"
   },
   "outputs": [
    {
     "name": "stderr",
     "output_type": "stream",
     "text": [
      "/usr/local/lib/python3.11/dist-packages/keras/src/layers/rnn/rnn.py:200: UserWarning: Do not pass an `input_shape`/`input_dim` argument to a layer. When using Sequential models, prefer using an `Input(shape)` object as the first layer in the model instead.\n",
      "  super().__init__(**kwargs)\n"
     ]
    }
   ],
   "source": [
    "model = Sequential([\n",
    "    LSTM(75, return_sequences=True, input_shape=(SEQ_LENGTH, len(features))),\n",
    "    Dropout(0.3),\n",
    "    LSTM(50),\n",
    "    Dropout(0.3),\n",
    "    Dense(1, activation='sigmoid')\n",
    "])\n",
    "\n",
    "model.compile(optimizer='adam', loss='binary_crossentropy', metrics=['accuracy'])"
   ]
  },
  {
   "cell_type": "code",
   "execution_count": 53,
   "metadata": {
    "colab": {
     "base_uri": "https://localhost:8080/"
    },
    "executionInfo": {
     "elapsed": 93450,
     "status": "ok",
     "timestamp": 1749364276992,
     "user": {
      "displayName": "Kiarash Khorasani",
      "userId": "09003096899192786092"
     },
     "user_tz": -210
    },
    "id": "JPC-P3VbJv2U",
    "outputId": "a8fbc7cc-9410-43f5-c8c5-acc71d9d1dfd"
   },
   "outputs": [
    {
     "name": "stdout",
     "output_type": "stream",
     "text": [
      "Epoch 1/20\n",
      "\u001b[1m77/77\u001b[0m \u001b[32m━━━━━━━━━━━━━━━━━━━━\u001b[0m\u001b[37m\u001b[0m \u001b[1m8s\u001b[0m 43ms/step - accuracy: 0.1510 - loss: 0.6894 - val_accuracy: 0.2857 - val_loss: 0.5843\n",
      "Epoch 2/20\n",
      "\u001b[1m77/77\u001b[0m \u001b[32m━━━━━━━━━━━━━━━━━━━━\u001b[0m\u001b[37m\u001b[0m \u001b[1m5s\u001b[0m 41ms/step - accuracy: 0.2821 - loss: 0.4441 - val_accuracy: 0.2857 - val_loss: 0.3504\n",
      "Epoch 3/20\n",
      "\u001b[1m77/77\u001b[0m \u001b[32m━━━━━━━━━━━━━━━━━━━━\u001b[0m\u001b[37m\u001b[0m \u001b[1m4s\u001b[0m 56ms/step - accuracy: 0.2753 - loss: 0.3556 - val_accuracy: 0.2857 - val_loss: 0.3457\n",
      "Epoch 4/20\n",
      "\u001b[1m77/77\u001b[0m \u001b[32m━━━━━━━━━━━━━━━━━━━━\u001b[0m\u001b[37m\u001b[0m \u001b[1m3s\u001b[0m 38ms/step - accuracy: 0.2731 - loss: 0.3567 - val_accuracy: 0.2857 - val_loss: 0.3375\n",
      "Epoch 5/20\n",
      "\u001b[1m77/77\u001b[0m \u001b[32m━━━━━━━━━━━━━━━━━━━━\u001b[0m\u001b[37m\u001b[0m \u001b[1m3s\u001b[0m 38ms/step - accuracy: 0.2873 - loss: 0.3522 - val_accuracy: 0.2857 - val_loss: 0.3462\n",
      "Epoch 6/20\n",
      "\u001b[1m77/77\u001b[0m \u001b[32m━━━━━━━━━━━━━━━━━━━━\u001b[0m\u001b[37m\u001b[0m \u001b[1m3s\u001b[0m 37ms/step - accuracy: 0.2835 - loss: 0.3417 - val_accuracy: 0.2857 - val_loss: 0.3326\n",
      "Epoch 7/20\n",
      "\u001b[1m77/77\u001b[0m \u001b[32m━━━━━━━━━━━━━━━━━━━━\u001b[0m\u001b[37m\u001b[0m \u001b[1m4s\u001b[0m 58ms/step - accuracy: 0.2993 - loss: 0.3351 - val_accuracy: 0.2857 - val_loss: 0.3336\n",
      "Epoch 8/20\n",
      "\u001b[1m77/77\u001b[0m \u001b[32m━━━━━━━━━━━━━━━━━━━━\u001b[0m\u001b[37m\u001b[0m \u001b[1m4s\u001b[0m 46ms/step - accuracy: 0.2975 - loss: 0.3361 - val_accuracy: 0.2857 - val_loss: 0.3316\n",
      "Epoch 9/20\n",
      "\u001b[1m77/77\u001b[0m \u001b[32m━━━━━━━━━━━━━━━━━━━━\u001b[0m\u001b[37m\u001b[0m \u001b[1m3s\u001b[0m 37ms/step - accuracy: 0.2715 - loss: 0.3446 - val_accuracy: 0.2857 - val_loss: 0.3301\n",
      "Epoch 10/20\n",
      "\u001b[1m77/77\u001b[0m \u001b[32m━━━━━━━━━━━━━━━━━━━━\u001b[0m\u001b[37m\u001b[0m \u001b[1m6s\u001b[0m 49ms/step - accuracy: 0.2737 - loss: 0.3396 - val_accuracy: 0.2857 - val_loss: 0.3309\n",
      "Epoch 11/20\n",
      "\u001b[1m77/77\u001b[0m \u001b[32m━━━━━━━━━━━━━━━━━━━━\u001b[0m\u001b[37m\u001b[0m \u001b[1m4s\u001b[0m 36ms/step - accuracy: 0.2924 - loss: 0.3331 - val_accuracy: 0.2857 - val_loss: 0.3297\n",
      "Epoch 12/20\n",
      "\u001b[1m77/77\u001b[0m \u001b[32m━━━━━━━━━━━━━━━━━━━━\u001b[0m\u001b[37m\u001b[0m \u001b[1m5s\u001b[0m 37ms/step - accuracy: 0.2806 - loss: 0.3368 - val_accuracy: 0.2857 - val_loss: 0.3295\n",
      "Epoch 13/20\n",
      "\u001b[1m77/77\u001b[0m \u001b[32m━━━━━━━━━━━━━━━━━━━━\u001b[0m\u001b[37m\u001b[0m \u001b[1m3s\u001b[0m 44ms/step - accuracy: 0.2831 - loss: 0.3441 - val_accuracy: 0.2857 - val_loss: 0.3298\n",
      "Epoch 14/20\n",
      "\u001b[1m77/77\u001b[0m \u001b[32m━━━━━━━━━━━━━━━━━━━━\u001b[0m\u001b[37m\u001b[0m \u001b[1m5s\u001b[0m 38ms/step - accuracy: 0.2936 - loss: 0.3334 - val_accuracy: 0.2857 - val_loss: 0.3294\n",
      "Epoch 15/20\n",
      "\u001b[1m77/77\u001b[0m \u001b[32m━━━━━━━━━━━━━━━━━━━━\u001b[0m\u001b[37m\u001b[0m \u001b[1m5s\u001b[0m 41ms/step - accuracy: 0.2722 - loss: 0.3396 - val_accuracy: 0.2857 - val_loss: 0.3291\n",
      "Epoch 16/20\n",
      "\u001b[1m77/77\u001b[0m \u001b[32m━━━━━━━━━━━━━━━━━━━━\u001b[0m\u001b[37m\u001b[0m \u001b[1m7s\u001b[0m 60ms/step - accuracy: 0.2808 - loss: 0.3317 - val_accuracy: 0.2857 - val_loss: 0.3293\n",
      "Epoch 17/20\n",
      "\u001b[1m77/77\u001b[0m \u001b[32m━━━━━━━━━━━━━━━━━━━━\u001b[0m\u001b[37m\u001b[0m \u001b[1m4s\u001b[0m 46ms/step - accuracy: 0.2917 - loss: 0.3277 - val_accuracy: 0.2857 - val_loss: 0.3292\n",
      "Epoch 18/20\n",
      "\u001b[1m77/77\u001b[0m \u001b[32m━━━━━━━━━━━━━━━━━━━━\u001b[0m\u001b[37m\u001b[0m \u001b[1m3s\u001b[0m 39ms/step - accuracy: 0.2925 - loss: 0.3260 - val_accuracy: 0.2857 - val_loss: 0.3289\n",
      "Epoch 19/20\n",
      "\u001b[1m77/77\u001b[0m \u001b[32m━━━━━━━━━━━━━━━━━━━━\u001b[0m\u001b[37m\u001b[0m \u001b[1m7s\u001b[0m 61ms/step - accuracy: 0.2910 - loss: 0.3279 - val_accuracy: 0.2857 - val_loss: 0.3289\n",
      "Epoch 20/20\n",
      "\u001b[1m77/77\u001b[0m \u001b[32m━━━━━━━━━━━━━━━━━━━━\u001b[0m\u001b[37m\u001b[0m \u001b[1m3s\u001b[0m 44ms/step - accuracy: 0.2849 - loss: 0.3371 - val_accuracy: 0.2857 - val_loss: 0.3288\n",
      "Train Accuracy: 28.55%, Test Accuracy: 28.57%\n"
     ]
    }
   ],
   "source": [
    "history = model.fit(\n",
    "    X_train, y_train,\n",
    "    epochs=20,\n",
    "    batch_size=32,\n",
    "    validation_data=(X_test, y_test),\n",
    "    verbose=1\n",
    ")\n",
    "\n",
    "# Evaluate\n",
    "train_acc = model.evaluate(X_train, y_train, verbose=0)[1]\n",
    "test_acc = model.evaluate(X_test, y_test, verbose=0)[1]\n",
    "print(f\"Train Accuracy: {train_acc:.2%}, Test Accuracy: {test_acc:.2%}\")"
   ]
  },
  {
   "cell_type": "code",
   "execution_count": 54,
   "metadata": {
    "colab": {
     "base_uri": "https://localhost:8080/"
    },
    "executionInfo": {
     "elapsed": 2059,
     "status": "ok",
     "timestamp": 1749364281925,
     "user": {
      "displayName": "Kiarash Khorasani",
      "userId": "09003096899192786092"
     },
     "user_tz": -210
    },
    "id": "zwQMH1vDJ0p6",
    "outputId": "d19b7ce7-f5c1-4076-fe27-de029fb7e5f7"
   },
   "outputs": [
    {
     "name": "stdout",
     "output_type": "stream",
     "text": [
      "\u001b[1m26/26\u001b[0m \u001b[32m━━━━━━━━━━━━━━━━━━━━\u001b[0m\u001b[37m\u001b[0m \u001b[1m1s\u001b[0m 35ms/step\n"
     ]
    }
   ],
   "source": [
    "# Predict on test set (ensure output is 1D)\n",
    "test_predictions = model.predict(X_test).flatten()  # Removes extra dimension\n",
    "binary_predictions = (test_predictions > 0.5).astype(int)  # Convert to 0/1\n",
    "\n",
    "# Align dates and prices with predictions\n",
    "start_idx = split + SEQ_LENGTH + 1\n",
    "test_dates = data['datetime'].values[start_idx : start_idx + len(binary_predictions)]\n",
    "test_close = data['Close'].values[start_idx : start_idx + len(binary_predictions)]\n",
    "\n",
    "# Create DataFrame\n",
    "results = pd.DataFrame({\n",
    "    'datetime': test_dates,\n",
    "    'actual_close': test_close,\n",
    "    'prediction': binary_predictions,  # Now 1D\n",
    "    'signal': np.where(binary_predictions == 1, 1, -1)  # Buy=1, Sell=-1\n",
    "})\n",
    "\n",
    "# Calculate returns\n",
    "results['daily_return'] = results['actual_close'].pct_change()\n",
    "results['strategy_return'] = results['signal'].shift(1) * results['daily_return']\n",
    "results['cumulative_strategy'] = (1 + results['strategy_return']).cumprod()"
   ]
  },
  {
   "cell_type": "code",
   "execution_count": 55,
   "metadata": {
    "colab": {
     "base_uri": "https://localhost:8080/",
     "height": 580
    },
    "executionInfo": {
     "elapsed": 4,
     "status": "ok",
     "timestamp": 1749364281926,
     "user": {
      "displayName": "Kiarash Khorasani",
      "userId": "09003096899192786092"
     },
     "user_tz": -210
    },
    "id": "AwD2M2d5KHK1",
    "outputId": "d25a225e-0c66-4dd3-87fc-c0033f8c8301"
   },
   "outputs": [
    {
     "data": {
      "image/png": "[encoded data removed]",
      "text/plain": [
       "<Figure size 1200x600 with 1 Axes>"
      ]
     },
     "metadata": {},
     "output_type": "display_data"
    },
    {
     "name": "stdout",
     "output_type": "stream",
     "text": [
      "Total Return: -18.28%\n",
      "Win Rate: 48.09%\n"
     ]
    }
   ],
   "source": [
    "# Plot cumulative returns\n",
    "plt.figure(figsize=(12,6))\n",
    "plt.plot(results['datetime'], results['cumulative_strategy'], label='Strategy')\n",
    "plt.plot(results['datetime'], (1 + results['daily_return']).cumprod(), label='Buy & Hold')\n",
    "plt.legend()\n",
    "plt.title('LSTM Trading Strategy Performance')\n",
    "plt.show()\n",
    "\n",
    "# Performance metrics\n",
    "total_return = results['cumulative_strategy'].iloc[-1] - 1\n",
    "win_rate = (results[results['strategy_return'] > 0]['strategy_return'].count() /\n",
    "           results['strategy_return'].count())\n",
    "print(f\"Total Return: {total_return:.2%}\")\n",
    "print(f\"Win Rate: {win_rate:.2%}\")"
   ]
  },
  {
   "cell_type": "markdown",
   "metadata": {
    "id": "0OzbjZs0ObUc"
   },
   "source": [
    "# 10 Day Ahead look"
   ]
  },
  {
   "cell_type": "code",
   "execution_count": 56,
   "metadata": {
    "executionInfo": {
     "elapsed": 338,
     "status": "ok",
     "timestamp": 1749364292392,
     "user": {
      "displayName": "Kiarash Khorasani",
      "userId": "09003096899192786092"
     },
     "user_tz": -210
    },
    "id": "OsX_usFIOf42"
   },
   "outputs": [],
   "source": [
    "# Create a 10-day forward return target\n",
    "data['future_close'] = data['Close'].shift(-10)\n",
    "data['target_10day'] = (data['future_close'] > data['Close']).astype(int)\n",
    "data.dropna(inplace=True)  # Remove last 10 rows with NaN targets"
   ]
  },
  {
   "cell_type": "code",
   "execution_count": 61,
   "metadata": {
    "executionInfo": {
     "elapsed": 301,
     "status": "ok",
     "timestamp": 1749364705427,
     "user": {
      "displayName": "Kiarash Khorasani",
      "userId": "09003096899192786092"
     },
     "user_tz": -210
    },
    "id": "3Lao0HjqOp2r"
   },
   "outputs": [],
   "source": [
    "def create_sequences(data, seq_length, lookahead, target_column):\n",
    "    X, y = [], []\n",
    "    for i in range(len(data) - seq_length - lookahead):\n",
    "        X.append(data[i:(i + seq_length)])\n",
    "        y.append(data[i + seq_length + lookahead - 1, target_column])\n",
    "    return np.array(X), np.array(y)\n",
    "\n",
    "SEQ_LENGTH = 30  # Lookback window\n",
    "LOOKAHEAD = 10   # Prediction horizon\n",
    "X, y = create_sequences(scaled_data, SEQ_LENGTH, LOOKAHEAD, target_column=-1)"
   ]
  },
  {
   "cell_type": "code",
   "execution_count": 62,
   "metadata": {
    "executionInfo": {
     "elapsed": 288,
     "status": "ok",
     "timestamp": 1749364708664,
     "user": {
      "displayName": "Kiarash Khorasani",
      "userId": "09003096899192786092"
     },
     "user_tz": -210
    },
    "id": "sGYIJcnfPfQd"
   },
   "outputs": [],
   "source": [
    "def create_sequences(data, seq_length, lookahead, target_column):\n",
    "    X, y = [], []\n",
    "    for i in range(len(data) - seq_length - lookahead):\n",
    "        X.append(data[i:(i + seq_length)])\n",
    "        y.append(data[i + seq_length + lookahead - 1, target_column])\n",
    "    return np.array(X), np.array(y)\n"
   ]
  },
  {
   "cell_type": "code",
   "execution_count": 63,
   "metadata": {
    "colab": {
     "base_uri": "https://localhost:8080/"
    },
    "executionInfo": {
     "elapsed": 305,
     "status": "ok",
     "timestamp": 1749364710824,
     "user": {
      "displayName": "Kiarash Khorasani",
      "userId": "09003096899192786092"
     },
     "user_tz": -210
    },
    "id": "ZP7JWJT3PA9m",
    "outputId": "3beed2a7-de0d-48ae-f4b7-9410b8c14e50"
   },
   "outputs": [
    {
     "name": "stderr",
     "output_type": "stream",
     "text": [
      "/usr/local/lib/python3.11/dist-packages/keras/src/layers/rnn/rnn.py:200: UserWarning: Do not pass an `input_shape`/`input_dim` argument to a layer. When using Sequential models, prefer using an `Input(shape)` object as the first layer in the model instead.\n",
      "  super().__init__(**kwargs)\n"
     ]
    }
   ],
   "source": [
    "model = Sequential([\n",
    "    LSTM(100, return_sequences=True, input_shape=(SEQ_LENGTH, len(features))),\n",
    "    Dropout(0.3),\n",
    "    LSTM(50),\n",
    "    Dropout(0.3),\n",
    "    Dense(1, activation='sigmoid')\n",
    "])\n",
    "model.compile(optimizer='adam', loss='binary_crossentropy', metrics=['accuracy'])"
   ]
  },
  {
   "cell_type": "code",
   "execution_count": 65,
   "metadata": {
    "colab": {
     "base_uri": "https://localhost:8080/"
    },
    "executionInfo": {
     "elapsed": 118335,
     "status": "ok",
     "timestamp": 1749364895634,
     "user": {
      "displayName": "Kiarash Khorasani",
      "userId": "09003096899192786092"
     },
     "user_tz": -210
    },
    "id": "nURUtkHxRBfX",
    "outputId": "850f42d4-5f33-4375-883e-7a293dfd943d"
   },
   "outputs": [
    {
     "name": "stdout",
     "output_type": "stream",
     "text": [
      "Epoch 1/20\n",
      "\u001b[1m77/77\u001b[0m \u001b[32m━━━━━━━━━━━━━━━━━━━━\u001b[0m\u001b[37m\u001b[0m \u001b[1m11s\u001b[0m 79ms/step - accuracy: 0.1626 - loss: 0.6920 - val_accuracy: 0.2857 - val_loss: 0.6372\n",
      "Epoch 2/20\n",
      "\u001b[1m77/77\u001b[0m \u001b[32m━━━━━━━━━━━━━━━━━━━━\u001b[0m\u001b[37m\u001b[0m \u001b[1m8s\u001b[0m 49ms/step - accuracy: 0.2739 - loss: 0.4902 - val_accuracy: 0.2857 - val_loss: 0.3525\n",
      "Epoch 3/20\n",
      "\u001b[1m77/77\u001b[0m \u001b[32m━━━━━━━━━━━━━━━━━━━━\u001b[0m\u001b[37m\u001b[0m \u001b[1m6s\u001b[0m 67ms/step - accuracy: 0.2742 - loss: 0.3607 - val_accuracy: 0.2857 - val_loss: 0.3389\n",
      "Epoch 4/20\n",
      "\u001b[1m77/77\u001b[0m \u001b[32m━━━━━━━━━━━━━━━━━━━━\u001b[0m\u001b[37m\u001b[0m \u001b[1m4s\u001b[0m 47ms/step - accuracy: 0.2812 - loss: 0.3456 - val_accuracy: 0.2857 - val_loss: 0.3388\n",
      "Epoch 5/20\n",
      "\u001b[1m77/77\u001b[0m \u001b[32m━━━━━━━━━━━━━━━━━━━━\u001b[0m\u001b[37m\u001b[0m \u001b[1m5s\u001b[0m 49ms/step - accuracy: 0.2822 - loss: 0.3460 - val_accuracy: 0.2857 - val_loss: 0.3322\n",
      "Epoch 6/20\n",
      "\u001b[1m77/77\u001b[0m \u001b[32m━━━━━━━━━━━━━━━━━━━━\u001b[0m\u001b[37m\u001b[0m \u001b[1m6s\u001b[0m 80ms/step - accuracy: 0.2767 - loss: 0.3453 - val_accuracy: 0.2857 - val_loss: 0.3312\n",
      "Epoch 7/20\n",
      "\u001b[1m77/77\u001b[0m \u001b[32m━━━━━━━━━━━━━━━━━━━━\u001b[0m\u001b[37m\u001b[0m \u001b[1m8s\u001b[0m 45ms/step - accuracy: 0.2791 - loss: 0.3427 - val_accuracy: 0.2857 - val_loss: 0.3386\n",
      "Epoch 8/20\n",
      "\u001b[1m77/77\u001b[0m \u001b[32m━━━━━━━━━━━━━━━━━━━━\u001b[0m\u001b[37m\u001b[0m \u001b[1m7s\u001b[0m 72ms/step - accuracy: 0.2868 - loss: 0.3428 - val_accuracy: 0.2857 - val_loss: 0.3363\n",
      "Epoch 9/20\n",
      "\u001b[1m77/77\u001b[0m \u001b[32m━━━━━━━━━━━━━━━━━━━━\u001b[0m\u001b[37m\u001b[0m \u001b[1m4s\u001b[0m 55ms/step - accuracy: 0.2885 - loss: 0.3330 - val_accuracy: 0.2857 - val_loss: 0.3325\n",
      "Epoch 10/20\n",
      "\u001b[1m77/77\u001b[0m \u001b[32m━━━━━━━━━━━━━━━━━━━━\u001b[0m\u001b[37m\u001b[0m \u001b[1m4s\u001b[0m 46ms/step - accuracy: 0.2827 - loss: 0.3295 - val_accuracy: 0.2857 - val_loss: 0.3307\n",
      "Epoch 11/20\n",
      "\u001b[1m77/77\u001b[0m \u001b[32m━━━━━━━━━━━━━━━━━━━━\u001b[0m\u001b[37m\u001b[0m \u001b[1m6s\u001b[0m 62ms/step - accuracy: 0.2765 - loss: 0.3414 - val_accuracy: 0.2857 - val_loss: 0.3323\n",
      "Epoch 12/20\n",
      "\u001b[1m77/77\u001b[0m \u001b[32m━━━━━━━━━━━━━━━━━━━━\u001b[0m\u001b[37m\u001b[0m \u001b[1m4s\u001b[0m 46ms/step - accuracy: 0.2810 - loss: 0.3424 - val_accuracy: 0.2857 - val_loss: 0.3297\n",
      "Epoch 13/20\n",
      "\u001b[1m77/77\u001b[0m \u001b[32m━━━━━━━━━━━━━━━━━━━━\u001b[0m\u001b[37m\u001b[0m \u001b[1m6s\u001b[0m 54ms/step - accuracy: 0.2841 - loss: 0.3320 - val_accuracy: 0.2857 - val_loss: 0.3294\n",
      "Epoch 14/20\n",
      "\u001b[1m77/77\u001b[0m \u001b[32m━━━━━━━━━━━━━━━━━━━━\u001b[0m\u001b[37m\u001b[0m \u001b[1m5s\u001b[0m 62ms/step - accuracy: 0.2791 - loss: 0.3311 - val_accuracy: 0.2857 - val_loss: 0.3297\n",
      "Epoch 15/20\n",
      "\u001b[1m77/77\u001b[0m \u001b[32m━━━━━━━━━━━━━━━━━━━━\u001b[0m\u001b[37m\u001b[0m \u001b[1m4s\u001b[0m 46ms/step - accuracy: 0.2880 - loss: 0.3332 - val_accuracy: 0.2857 - val_loss: 0.3290\n",
      "Epoch 16/20\n",
      "\u001b[1m77/77\u001b[0m \u001b[32m━━━━━━━━━━━━━━━━━━━━\u001b[0m\u001b[37m\u001b[0m \u001b[1m6s\u001b[0m 52ms/step - accuracy: 0.2839 - loss: 0.3337 - val_accuracy: 0.2857 - val_loss: 0.3290\n",
      "Epoch 17/20\n",
      "\u001b[1m77/77\u001b[0m \u001b[32m━━━━━━━━━━━━━━━━━━━━\u001b[0m\u001b[37m\u001b[0m \u001b[1m5s\u001b[0m 61ms/step - accuracy: 0.2986 - loss: 0.3296 - val_accuracy: 0.2857 - val_loss: 0.3294\n",
      "Epoch 18/20\n",
      "\u001b[1m77/77\u001b[0m \u001b[32m━━━━━━━━━━━━━━━━━━━━\u001b[0m\u001b[37m\u001b[0m \u001b[1m4s\u001b[0m 49ms/step - accuracy: 0.2828 - loss: 0.3334 - val_accuracy: 0.2857 - val_loss: 0.3289\n",
      "Epoch 19/20\n",
      "\u001b[1m77/77\u001b[0m \u001b[32m━━━━━━━━━━━━━━━━━━━━\u001b[0m\u001b[37m\u001b[0m \u001b[1m4s\u001b[0m 48ms/step - accuracy: 0.2852 - loss: 0.3337 - val_accuracy: 0.2857 - val_loss: 0.3289\n",
      "Epoch 20/20\n",
      "\u001b[1m77/77\u001b[0m \u001b[32m━━━━━━━━━━━━━━━━━━━━\u001b[0m\u001b[37m\u001b[0m \u001b[1m5s\u001b[0m 68ms/step - accuracy: 0.3017 - loss: 0.3255 - val_accuracy: 0.2857 - val_loss: 0.3288\n",
      "Train Accuracy: 28.55%, Test Accuracy: 28.57%\n"
     ]
    }
   ],
   "source": [
    "history = model.fit(\n",
    "    X_train, y_train,\n",
    "    epochs=20,\n",
    "    batch_size=32,\n",
    "    validation_data=(X_test, y_test),\n",
    "    verbose=1\n",
    ")\n",
    "\n",
    "# Evaluate\n",
    "train_acc = model.evaluate(X_train, y_train, verbose=0)[1]\n",
    "test_acc = model.evaluate(X_test, y_test, verbose=0)[1]\n",
    "print(f\"Train Accuracy: {train_acc:.2%}, Test Accuracy: {test_acc:.2%}\")"
   ]
  },
  {
   "cell_type": "code",
   "execution_count": 67,
   "metadata": {
    "colab": {
     "base_uri": "https://localhost:8080/"
    },
    "executionInfo": {
     "elapsed": 799,
     "status": "ok",
     "timestamp": 1749364997264,
     "user": {
      "displayName": "Kiarash Khorasani",
      "userId": "09003096899192786092"
     },
     "user_tz": -210
    },
    "id": "trQi9HyjQ4VQ",
    "outputId": "10d4ee1f-535d-4176-ad23-bc2a97ae3a77"
   },
   "outputs": [
    {
     "name": "stdout",
     "output_type": "stream",
     "text": [
      "\u001b[1m26/26\u001b[0m \u001b[32m━━━━━━━━━━━━━━━━━━━━\u001b[0m\u001b[37m\u001b[0m \u001b[1m0s\u001b[0m 15ms/step\n"
     ]
    }
   ],
   "source": [
    "test_predictions = (model.predict(X_test) > 0.5).astype(int)\n",
    "test_dates = data['datetime'].iloc[split+SEQ_LENGTH+LOOKAHEAD-1:split+SEQ_LENGTH+LOOKAHEAD-1+len(X_test)]\n",
    "actual_10day_moves = data['target_10day'].iloc[split+SEQ_LENGTH+LOOKAHEAD-1:split+SEQ_LENGTH+LOOKAHEAD-1+len(X_test)]\n",
    "\n",
    "test_predictions = test_predictions[:794]\n",
    "\n",
    "\n",
    "results = pd.DataFrame({\n",
    "    'datetime': test_dates,\n",
    "    'predicted_10day_rise': test_predictions.flatten(),\n",
    "    'actual_10day_rise': actual_10day_moves.values\n",
    "})"
   ]
  },
  {
   "cell_type": "code",
   "execution_count": 5,
   "metadata": {
    "executionInfo": {
     "elapsed": 613,
     "status": "ok",
     "timestamp": 1749370242145,
     "user": {
      "displayName": "Kiarash Khorasani",
      "userId": "09003096899192786092"
     },
     "user_tz": -210
    },
    "id": "xd-aK_dulTT1"
   },
   "outputs": [],
   "source": [
    "def prepare_data(df, look_back=60, forecast_horizon=10):\n",
    "    features = ['day_sin', 'day_cos', 'Open', 'High', 'Low', 'Close', 'Volume',\n",
    "                'VWAP', 'OBV', 'Cumulative_Return', 'SMA_5', 'SMA_20', 'SMA_50',\n",
    "                'SMA_200', 'EMA_5', 'EMA_20', 'EMA_50', 'EMA_200', 'RSI', 'ATR',\n",
    "                'MACD', 'MACD_Signal', 'Bollinger_Upper', 'Bollinger_Mid', 'Bollinger_Lower']\n",
    "\n",
    "    target = 'Close'\n",
    "\n",
    "    scaler = MinMaxScaler(feature_range=(0, 1))\n",
    "    scaled_data = scaler.fit_transform(df[features])\n",
    "    scaled_target = scaler.fit_transform(df[[target]])\n",
    "\n",
    "    X, y = [], []\n",
    "    for i in range(len(df) - look_back - forecast_horizon):\n",
    "        X.append(scaled_data[i:(i + look_back)])\n",
    "        y.append(scaled_target[i + look_back + forecast_horizon - 1, 0])\n",
    "\n",
    "    X, y = np.array(X), np.array(y)\n",
    "\n",
    "    return X, y, scaler"
   ]
  },
  {
   "cell_type": "code",
   "execution_count": 6,
   "metadata": {
    "executionInfo": {
     "elapsed": 1,
     "status": "ok",
     "timestamp": 1749370243218,
     "user": {
      "displayName": "Kiarash Khorasani",
      "userId": "09003096899192786092"
     },
     "user_tz": -210
    },
    "id": "w9os8Qyrlcu1"
   },
   "outputs": [],
   "source": [
    "def train_test_split(df):\n",
    "    split_idx = int(len(df) * 0.75)\n",
    "    train_df = df.iloc[:split_idx]\n",
    "    test_df = df.iloc[split_idx:]\n",
    "    return train_df, test_df"
   ]
  },
  {
   "cell_type": "code",
   "execution_count": 7,
   "metadata": {
    "executionInfo": {
     "elapsed": 1,
     "status": "ok",
     "timestamp": 1749370244663,
     "user": {
      "displayName": "Kiarash Khorasani",
      "userId": "09003096899192786092"
     },
     "user_tz": -210
    },
    "id": "0HxykiYolebi"
   },
   "outputs": [],
   "source": [
    "# 3. Build LSTM Model\n",
    "def build_lstm_model(input_shape):\n",
    "    model = Sequential()\n",
    "    model.add(LSTM(100, return_sequences=True, input_shape=input_shape))\n",
    "    model.add(Dropout(0.2))\n",
    "    model.add(LSTM(100, return_sequences=True))\n",
    "    model.add(Dropout(0.2))\n",
    "    model.add(LSTM(50))\n",
    "    model.add(Dropout(0.2))\n",
    "    model.add(Dense(1))\n",
    "\n",
    "    model.compile(optimizer='adam', loss='mean_squared_error')\n",
    "    return model"
   ]
  },
  {
   "cell_type": "code",
   "execution_count": 57,
   "metadata": {
    "executionInfo": {
     "elapsed": 330,
     "status": "ok",
     "timestamp": 1749371977540,
     "user": {
      "displayName": "Kiarash Khorasani",
      "userId": "09003096899192786092"
     },
     "user_tz": -210
    },
    "id": "sppsqQwqk2NW"
   },
   "outputs": [],
   "source": [
    "def main():\n",
    "    look_back = 30\n",
    "    forecast_horizon = 10\n",
    "\n",
    "    train_df, test_df = train_test_split(data)\n",
    "\n",
    "    X_train, y_train, scaler = prepare_data(train_df, look_back, forecast_horizon)\n",
    "\n",
    "    X_test, y_test, _ = prepare_data(test_df, look_back, forecast_horizon)\n",
    "\n",
    "    model = build_lstm_model((X_train.shape[1], X_train.shape[2]))\n",
    "\n",
    "    early_stop = EarlyStopping(monitor='val_loss', patience=10)\n",
    "    history = model.fit(X_train, y_train,\n",
    "                       epochs=20,\n",
    "                       batch_size=32,\n",
    "                       validation_split=0.2,\n",
    "                       callbacks=[early_stop],\n",
    "                       verbose=1)\n",
    "\n",
    "    test_predictions = model.predict(X_test)\n",
    "\n",
    "    test_predictions = scaler.inverse_transform(test_predictions.reshape(-1, 1))\n",
    "    y_test_actual = scaler.inverse_transform(y_test.reshape(-1, 1))\n",
    "\n",
    "    rmse = np.sqrt(mean_squared_error(y_test_actual, test_predictions))\n",
    "    print(f\"Test RMSE: {rmse}\")\n",
    "\n",
    "    signals = []\n",
    "    for i in range(1, len(test_predictions)):\n",
    "        if test_predictions[i] > test_predictions[i-1]:\n",
    "            signals.append('Buy')\n",
    "        else:\n",
    "            signals.append('Sell')\n",
    "    print(y_test_actual[1:-9].shape)\n",
    "    print(test_predictions[1:-9].shape)\n",
    "    signals = signals[0:-9]\n",
    "    print(len(signals))\n",
    "\n",
    "    test_dates = test_df.index[look_back + forecast_horizon:-forecast_horizon]\n",
    "    print(test_dates.shape)\n",
    "    signal_df = pd.DataFrame({\n",
    "        'Date': test_dates,\n",
    "        'Actual_Close': y_test_actual[1:-9].flatten(),\n",
    "        'Predicted_Close': test_predictions[1:-9].flatten(),\n",
    "        'Signal': signals\n",
    "    })\n",
    "\n",
    "    plt.figure(figsize=(14, 7))\n",
    "    plt.plot(test_dates, y_test_actual[1:-9], label='Actual Close')\n",
    "    plt.plot(test_dates, test_predictions[1:-9], label='Predicted Close', alpha=0.7)\n",
    "\n",
    "    buy_signals = signal_df[signal_df['Signal'] == 'Buy']\n",
    "    sell_signals = signal_df[signal_df['Signal'] == 'Sell']\n",
    "    plt.scatter(buy_signals['Date'], buy_signals['Actual_Close'],\n",
    "                color='green', label='Buy Signal', marker='^', alpha=1)\n",
    "    plt.scatter(sell_signals['Date'], sell_signals['Actual_Close'],\n",
    "                color='red', label='Sell Signal', marker='v', alpha=1)\n",
    "\n",
    "    plt.title(f'Stock Price Prediction with {forecast_horizon}-Day Forecast')\n",
    "    plt.xlabel('Date')\n",
    "    plt.ylabel('Price')\n",
    "    plt.legend()\n",
    "    plt.show()\n",
    "\n",
    "    return signal_df\n"
   ]
  },
  {
   "cell_type": "code",
   "execution_count": 58,
   "metadata": {
    "colab": {
     "base_uri": "https://localhost:8080/",
     "height": 1000
    },
    "executionInfo": {
     "elapsed": 141257,
     "status": "ok",
     "timestamp": 1749372120907,
     "user": {
      "displayName": "Kiarash Khorasani",
      "userId": "09003096899192786092"
     },
     "user_tz": -210
    },
    "id": "tUrI4BP6lsfE",
    "outputId": "49ad484e-d0d5-4d3e-d7de-fff794021dc5"
   },
   "outputs": [
    {
     "name": "stderr",
     "output_type": "stream",
     "text": [
      "/usr/local/lib/python3.11/dist-packages/keras/src/layers/rnn/rnn.py:200: UserWarning: Do not pass an `input_shape`/`input_dim` argument to a layer. When using Sequential models, prefer using an `Input(shape)` object as the first layer in the model instead.\n",
      "  super().__init__(**kwargs)\n"
     ]
    },
    {
     "name": "stdout",
     "output_type": "stream",
     "text": [
      "Epoch 1/20\n",
      "\u001b[1m61/61\u001b[0m \u001b[32m━━━━━━━━━━━━━━━━━━━━\u001b[0m\u001b[37m\u001b[0m \u001b[1m11s\u001b[0m 96ms/step - loss: 0.0517 - val_loss: 0.0075\n",
      "Epoch 2/20\n",
      "\u001b[1m61/61\u001b[0m \u001b[32m━━━━━━━━━━━━━━━━━━━━\u001b[0m\u001b[37m\u001b[0m \u001b[1m9s\u001b[0m 78ms/step - loss: 0.0070 - val_loss: 0.0065\n",
      "Epoch 3/20\n",
      "\u001b[1m61/61\u001b[0m \u001b[32m━━━━━━━━━━━━━━━━━━━━\u001b[0m\u001b[37m\u001b[0m \u001b[1m7s\u001b[0m 106ms/step - loss: 0.0067 - val_loss: 0.0091\n",
      "Epoch 4/20\n",
      "\u001b[1m61/61\u001b[0m \u001b[32m━━━━━━━━━━━━━━━━━━━━\u001b[0m\u001b[37m\u001b[0m \u001b[1m8s\u001b[0m 77ms/step - loss: 0.0059 - val_loss: 0.0076\n",
      "Epoch 5/20\n",
      "\u001b[1m61/61\u001b[0m \u001b[32m━━━━━━━━━━━━━━━━━━━━\u001b[0m\u001b[37m\u001b[0m \u001b[1m7s\u001b[0m 107ms/step - loss: 0.0057 - val_loss: 0.0106\n",
      "Epoch 6/20\n",
      "\u001b[1m61/61\u001b[0m \u001b[32m━━━━━━━━━━━━━━━━━━━━\u001b[0m\u001b[37m\u001b[0m \u001b[1m8s\u001b[0m 77ms/step - loss: 0.0061 - val_loss: 0.0068\n",
      "Epoch 7/20\n",
      "\u001b[1m61/61\u001b[0m \u001b[32m━━━━━━━━━━━━━━━━━━━━\u001b[0m\u001b[37m\u001b[0m \u001b[1m7s\u001b[0m 105ms/step - loss: 0.0055 - val_loss: 0.0056\n",
      "Epoch 8/20\n",
      "\u001b[1m61/61\u001b[0m \u001b[32m━━━━━━━━━━━━━━━━━━━━\u001b[0m\u001b[37m\u001b[0m \u001b[1m8s\u001b[0m 75ms/step - loss: 0.0054 - val_loss: 0.0070\n",
      "Epoch 9/20\n",
      "\u001b[1m61/61\u001b[0m \u001b[32m━━━━━━━━━━━━━━━━━━━━\u001b[0m\u001b[37m\u001b[0m \u001b[1m7s\u001b[0m 111ms/step - loss: 0.0055 - val_loss: 0.0074\n",
      "Epoch 10/20\n",
      "\u001b[1m61/61\u001b[0m \u001b[32m━━━━━━━━━━━━━━━━━━━━\u001b[0m\u001b[37m\u001b[0m \u001b[1m8s\u001b[0m 80ms/step - loss: 0.0051 - val_loss: 0.0068\n",
      "Epoch 11/20\n",
      "\u001b[1m61/61\u001b[0m \u001b[32m━━━━━━━━━━━━━━━━━━━━\u001b[0m\u001b[37m\u001b[0m \u001b[1m7s\u001b[0m 110ms/step - loss: 0.0057 - val_loss: 0.0066\n",
      "Epoch 12/20\n",
      "\u001b[1m61/61\u001b[0m \u001b[32m━━━━━━━━━━━━━━━━━━━━\u001b[0m\u001b[37m\u001b[0m \u001b[1m8s\u001b[0m 76ms/step - loss: 0.0049 - val_loss: 0.0082\n",
      "Epoch 13/20\n",
      "\u001b[1m61/61\u001b[0m \u001b[32m━━━━━━━━━━━━━━━━━━━━\u001b[0m\u001b[37m\u001b[0m \u001b[1m6s\u001b[0m 98ms/step - loss: 0.0048 - val_loss: 0.0058\n",
      "Epoch 14/20\n",
      "\u001b[1m61/61\u001b[0m \u001b[32m━━━━━━━━━━━━━━━━━━━━\u001b[0m\u001b[37m\u001b[0m \u001b[1m9s\u001b[0m 87ms/step - loss: 0.0054 - val_loss: 0.0057\n",
      "Epoch 15/20\n",
      "\u001b[1m61/61\u001b[0m \u001b[32m━━━━━━━━━━━━━━━━━━━━\u001b[0m\u001b[37m\u001b[0m \u001b[1m10s\u001b[0m 79ms/step - loss: 0.0045 - val_loss: 0.0064\n",
      "Epoch 16/20\n",
      "\u001b[1m61/61\u001b[0m \u001b[32m━━━━━━━━━━━━━━━━━━━━\u001b[0m\u001b[37m\u001b[0m \u001b[1m7s\u001b[0m 105ms/step - loss: 0.0044 - val_loss: 0.0060\n",
      "Epoch 17/20\n",
      "\u001b[1m61/61\u001b[0m \u001b[32m━━━━━━━━━━━━━━━━━━━━\u001b[0m\u001b[37m\u001b[0m \u001b[1m8s\u001b[0m 75ms/step - loss: 0.0046 - val_loss: 0.0064\n",
      "\u001b[1m25/25\u001b[0m \u001b[32m━━━━━━━━━━━━━━━━━━━━\u001b[0m\u001b[37m\u001b[0m \u001b[1m2s\u001b[0m 55ms/step\n",
      "Test RMSE: 12.504607548872036\n",
      "(770, 1)\n",
      "(770, 1)\n",
      "770\n",
      "(770,)\n"
     ]
    },
    {
     "data": {
      "image/png": "[encoded data removed]",
      "text/plain": [
       "<Figure size 1400x700 with 1 Axes>"
      ]
     },
     "metadata": {},
     "output_type": "display_data"
    }
   ],
   "source": [
    "if __name__ == \"__main__\":\n",
    "    trading_signals = main()"
   ]
  }
 ],
 "metadata": {
  "colab": {
   "authorship_tag": "ABX9TyN40esvlgO2YQKiO5Bp13oz",
   "provenance": []
  },
  "kernelspec": {
   "display_name": "Python 3",
   "name": "python3"
  },
  "language_info": {
   "name": "python"
  }
 },
 "nbformat": 4,
 "nbformat_minor": 0
}
